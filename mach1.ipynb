{
 "cells": [
  {
   "cell_type": "code",
   "execution_count": 55,
   "id": "c506fd92-12c4-4bca-b0eb-76655eebeff7",
   "metadata": {},
   "outputs": [],
   "source": [
    "import pandas as pd\n",
    "import numpy as np\n",
    "import matplotlib.pyplot as plt\n",
    "from pylab import rcParams"
   ]
  },
  {
   "cell_type": "code",
   "execution_count": 56,
   "id": "469613e4-8dc5-4111-802d-5e2b965d168e",
   "metadata": {},
   "outputs": [],
   "source": [
    "desu = pd.read_csv('sports_injury1.csv')"
   ]
  },
  {
   "cell_type": "code",
   "execution_count": 57,
   "id": "401eddef-3ccc-4092-9dae-9b0d355501da",
   "metadata": {},
   "outputs": [
    {
     "name": "stdout",
     "output_type": "stream",
     "text": [
      "<class 'pandas.core.frame.DataFrame'>\n",
      "RangeIndex: 1100 entries, 0 to 1099\n",
      "Data columns (total 7 columns):\n",
      " #   Column                   Non-Null Count  Dtype  \n",
      "---  ------                   --------------  -----  \n",
      " 0   Age                      1100 non-null   int64  \n",
      " 1   Gender                   1100 non-null   object \n",
      " 2   Sport                    1100 non-null   object \n",
      " 3   Training_Hours_per_Week  1100 non-null   int64  \n",
      " 4   Previous_Injuries        1100 non-null   int64  \n",
      " 5   BMI                      1100 non-null   float64\n",
      " 6   Injury_Risk              1100 non-null   object \n",
      "dtypes: float64(1), int64(3), object(3)\n",
      "memory usage: 60.3+ KB\n"
     ]
    }
   ],
   "source": [
    "desu.info()"
   ]
  },
  {
   "cell_type": "code",
   "execution_count": 58,
   "id": "f21bb10a-9a91-43a3-8123-282e5b4d3b23",
   "metadata": {},
   "outputs": [
    {
     "data": {
      "text/html": [
       "<div>\n",
       "<style scoped>\n",
       "    .dataframe tbody tr th:only-of-type {\n",
       "        vertical-align: middle;\n",
       "    }\n",
       "\n",
       "    .dataframe tbody tr th {\n",
       "        vertical-align: top;\n",
       "    }\n",
       "\n",
       "    .dataframe thead th {\n",
       "        text-align: right;\n",
       "    }\n",
       "</style>\n",
       "<table border=\"1\" class=\"dataframe\">\n",
       "  <thead>\n",
       "    <tr style=\"text-align: right;\">\n",
       "      <th></th>\n",
       "      <th>Age</th>\n",
       "      <th>Gender</th>\n",
       "      <th>Sport</th>\n",
       "      <th>Training_Hours_per_Week</th>\n",
       "      <th>Previous_Injuries</th>\n",
       "      <th>BMI</th>\n",
       "      <th>Injury_Risk</th>\n",
       "    </tr>\n",
       "  </thead>\n",
       "  <tbody>\n",
       "    <tr>\n",
       "      <th>0</th>\n",
       "      <td>30</td>\n",
       "      <td>Male</td>\n",
       "      <td>Basketball</td>\n",
       "      <td>17</td>\n",
       "      <td>0</td>\n",
       "      <td>20.3</td>\n",
       "      <td>High</td>\n",
       "    </tr>\n",
       "    <tr>\n",
       "      <th>1</th>\n",
       "      <td>21</td>\n",
       "      <td>Female</td>\n",
       "      <td>Athletics</td>\n",
       "      <td>10</td>\n",
       "      <td>1</td>\n",
       "      <td>28.1</td>\n",
       "      <td>Low</td>\n",
       "    </tr>\n",
       "    <tr>\n",
       "      <th>2</th>\n",
       "      <td>33</td>\n",
       "      <td>Male</td>\n",
       "      <td>Rugby</td>\n",
       "      <td>6</td>\n",
       "      <td>3</td>\n",
       "      <td>20.0</td>\n",
       "      <td>Low</td>\n",
       "    </tr>\n",
       "    <tr>\n",
       "      <th>3</th>\n",
       "      <td>31</td>\n",
       "      <td>Female</td>\n",
       "      <td>Athletics</td>\n",
       "      <td>12</td>\n",
       "      <td>5</td>\n",
       "      <td>28.6</td>\n",
       "      <td>Low</td>\n",
       "    </tr>\n",
       "    <tr>\n",
       "      <th>4</th>\n",
       "      <td>34</td>\n",
       "      <td>Male</td>\n",
       "      <td>Basketball</td>\n",
       "      <td>13</td>\n",
       "      <td>3</td>\n",
       "      <td>29.4</td>\n",
       "      <td>Low</td>\n",
       "    </tr>\n",
       "  </tbody>\n",
       "</table>\n",
       "</div>"
      ],
      "text/plain": [
       "   Age  Gender       Sport  Training_Hours_per_Week  Previous_Injuries   BMI  \\\n",
       "0   30    Male  Basketball                       17                  0  20.3   \n",
       "1   21  Female   Athletics                       10                  1  28.1   \n",
       "2   33    Male       Rugby                        6                  3  20.0   \n",
       "3   31  Female   Athletics                       12                  5  28.6   \n",
       "4   34    Male  Basketball                       13                  3  29.4   \n",
       "\n",
       "  Injury_Risk  \n",
       "0        High  \n",
       "1         Low  \n",
       "2         Low  \n",
       "3         Low  \n",
       "4         Low  "
      ]
     },
     "execution_count": 58,
     "metadata": {},
     "output_type": "execute_result"
    }
   ],
   "source": [
    "desu.head()"
   ]
  },
  {
   "cell_type": "code",
   "execution_count": 59,
   "id": "0de61587-9122-4bf4-91e6-bef3368f025f",
   "metadata": {},
   "outputs": [
    {
     "name": "stdout",
     "output_type": "stream",
     "text": [
      "Dataset shape: (1100, 7)\n"
     ]
    }
   ],
   "source": [
    "print(f\"Dataset shape: {desu.shape}\")"
   ]
  },
  {
   "cell_type": "code",
   "execution_count": 60,
   "id": "cb6d7881-893d-4dd9-b70d-191998c3c3cd",
   "metadata": {},
   "outputs": [
    {
     "name": "stdout",
     "output_type": "stream",
     "text": [
      "Age                        0\n",
      "Gender                     0\n",
      "Sport                      0\n",
      "Training_Hours_per_Week    0\n",
      "Previous_Injuries          0\n",
      "BMI                        0\n",
      "Injury_Risk                0\n",
      "dtype: int64\n"
     ]
    }
   ],
   "source": [
    "print(desu.isnull().sum())"
   ]
  },
  {
   "cell_type": "code",
   "execution_count": 61,
   "id": "c076a9d0-44ef-47b3-ae95-2af72c5adc21",
   "metadata": {},
   "outputs": [
    {
     "data": {
      "text/html": [
       "<div>\n",
       "<style scoped>\n",
       "    .dataframe tbody tr th:only-of-type {\n",
       "        vertical-align: middle;\n",
       "    }\n",
       "\n",
       "    .dataframe tbody tr th {\n",
       "        vertical-align: top;\n",
       "    }\n",
       "\n",
       "    .dataframe thead th {\n",
       "        text-align: right;\n",
       "    }\n",
       "</style>\n",
       "<table border=\"1\" class=\"dataframe\">\n",
       "  <thead>\n",
       "    <tr style=\"text-align: right;\">\n",
       "      <th></th>\n",
       "      <th>Age</th>\n",
       "      <th>Training_Hours_per_Week</th>\n",
       "      <th>Previous_Injuries</th>\n",
       "      <th>BMI</th>\n",
       "    </tr>\n",
       "  </thead>\n",
       "  <tbody>\n",
       "    <tr>\n",
       "      <th>count</th>\n",
       "      <td>1100.000000</td>\n",
       "      <td>1100.000000</td>\n",
       "      <td>1100.000000</td>\n",
       "      <td>1100.000000</td>\n",
       "    </tr>\n",
       "    <tr>\n",
       "      <th>mean</th>\n",
       "      <td>26.513636</td>\n",
       "      <td>15.055455</td>\n",
       "      <td>2.490000</td>\n",
       "      <td>24.059091</td>\n",
       "    </tr>\n",
       "    <tr>\n",
       "      <th>std</th>\n",
       "      <td>5.179296</td>\n",
       "      <td>6.069930</td>\n",
       "      <td>1.739361</td>\n",
       "      <td>3.463119</td>\n",
       "    </tr>\n",
       "    <tr>\n",
       "      <th>min</th>\n",
       "      <td>18.000000</td>\n",
       "      <td>5.000000</td>\n",
       "      <td>0.000000</td>\n",
       "      <td>18.000000</td>\n",
       "    </tr>\n",
       "    <tr>\n",
       "      <th>25%</th>\n",
       "      <td>22.000000</td>\n",
       "      <td>10.000000</td>\n",
       "      <td>1.000000</td>\n",
       "      <td>21.000000</td>\n",
       "    </tr>\n",
       "    <tr>\n",
       "      <th>50%</th>\n",
       "      <td>27.000000</td>\n",
       "      <td>15.000000</td>\n",
       "      <td>2.500000</td>\n",
       "      <td>24.100000</td>\n",
       "    </tr>\n",
       "    <tr>\n",
       "      <th>75%</th>\n",
       "      <td>31.000000</td>\n",
       "      <td>20.000000</td>\n",
       "      <td>4.000000</td>\n",
       "      <td>27.000000</td>\n",
       "    </tr>\n",
       "    <tr>\n",
       "      <th>max</th>\n",
       "      <td>35.000000</td>\n",
       "      <td>25.000000</td>\n",
       "      <td>5.000000</td>\n",
       "      <td>30.000000</td>\n",
       "    </tr>\n",
       "  </tbody>\n",
       "</table>\n",
       "</div>"
      ],
      "text/plain": [
       "               Age  Training_Hours_per_Week  Previous_Injuries          BMI\n",
       "count  1100.000000              1100.000000        1100.000000  1100.000000\n",
       "mean     26.513636                15.055455           2.490000    24.059091\n",
       "std       5.179296                 6.069930           1.739361     3.463119\n",
       "min      18.000000                 5.000000           0.000000    18.000000\n",
       "25%      22.000000                10.000000           1.000000    21.000000\n",
       "50%      27.000000                15.000000           2.500000    24.100000\n",
       "75%      31.000000                20.000000           4.000000    27.000000\n",
       "max      35.000000                25.000000           5.000000    30.000000"
      ]
     },
     "execution_count": 61,
     "metadata": {},
     "output_type": "execute_result"
    }
   ],
   "source": [
    "desu.describe()"
   ]
  },
  {
   "cell_type": "code",
   "execution_count": 62,
   "id": "4b489976-91b9-42c8-9705-67ab83667bba",
   "metadata": {},
   "outputs": [],
   "source": [
    "desu.sort_values(\"Age\", ascending = False,inplace= True)"
   ]
  },
  {
   "cell_type": "code",
   "execution_count": 63,
   "id": "ff5f251b-e4b7-4233-a6c6-be49d89e98a8",
   "metadata": {},
   "outputs": [
    {
     "data": {
      "text/html": [
       "<div>\n",
       "<style scoped>\n",
       "    .dataframe tbody tr th:only-of-type {\n",
       "        vertical-align: middle;\n",
       "    }\n",
       "\n",
       "    .dataframe tbody tr th {\n",
       "        vertical-align: top;\n",
       "    }\n",
       "\n",
       "    .dataframe thead th {\n",
       "        text-align: right;\n",
       "    }\n",
       "</style>\n",
       "<table border=\"1\" class=\"dataframe\">\n",
       "  <thead>\n",
       "    <tr style=\"text-align: right;\">\n",
       "      <th></th>\n",
       "      <th>Age</th>\n",
       "      <th>Gender</th>\n",
       "      <th>Sport</th>\n",
       "      <th>Training_Hours_per_Week</th>\n",
       "      <th>Previous_Injuries</th>\n",
       "      <th>BMI</th>\n",
       "      <th>Injury_Risk</th>\n",
       "    </tr>\n",
       "  </thead>\n",
       "  <tbody>\n",
       "    <tr>\n",
       "      <th>279</th>\n",
       "      <td>35</td>\n",
       "      <td>Female</td>\n",
       "      <td>Rugby</td>\n",
       "      <td>15</td>\n",
       "      <td>0</td>\n",
       "      <td>24.0</td>\n",
       "      <td>Moderate</td>\n",
       "    </tr>\n",
       "    <tr>\n",
       "      <th>280</th>\n",
       "      <td>35</td>\n",
       "      <td>Female</td>\n",
       "      <td>Tennis</td>\n",
       "      <td>23</td>\n",
       "      <td>5</td>\n",
       "      <td>25.0</td>\n",
       "      <td>Moderate</td>\n",
       "    </tr>\n",
       "    <tr>\n",
       "      <th>353</th>\n",
       "      <td>35</td>\n",
       "      <td>Female</td>\n",
       "      <td>Rugby</td>\n",
       "      <td>18</td>\n",
       "      <td>3</td>\n",
       "      <td>23.7</td>\n",
       "      <td>High</td>\n",
       "    </tr>\n",
       "    <tr>\n",
       "      <th>351</th>\n",
       "      <td>35</td>\n",
       "      <td>Male</td>\n",
       "      <td>Athletics</td>\n",
       "      <td>24</td>\n",
       "      <td>4</td>\n",
       "      <td>23.7</td>\n",
       "      <td>High</td>\n",
       "    </tr>\n",
       "    <tr>\n",
       "      <th>1017</th>\n",
       "      <td>35</td>\n",
       "      <td>Female</td>\n",
       "      <td>Rugby</td>\n",
       "      <td>23</td>\n",
       "      <td>1</td>\n",
       "      <td>22.7</td>\n",
       "      <td>High</td>\n",
       "    </tr>\n",
       "    <tr>\n",
       "      <th>...</th>\n",
       "      <td>...</td>\n",
       "      <td>...</td>\n",
       "      <td>...</td>\n",
       "      <td>...</td>\n",
       "      <td>...</td>\n",
       "      <td>...</td>\n",
       "      <td>...</td>\n",
       "    </tr>\n",
       "    <tr>\n",
       "      <th>491</th>\n",
       "      <td>18</td>\n",
       "      <td>Female</td>\n",
       "      <td>Soccer</td>\n",
       "      <td>8</td>\n",
       "      <td>1</td>\n",
       "      <td>23.8</td>\n",
       "      <td>Moderate</td>\n",
       "    </tr>\n",
       "    <tr>\n",
       "      <th>484</th>\n",
       "      <td>18</td>\n",
       "      <td>Female</td>\n",
       "      <td>Rugby</td>\n",
       "      <td>19</td>\n",
       "      <td>1</td>\n",
       "      <td>22.2</td>\n",
       "      <td>Low</td>\n",
       "    </tr>\n",
       "    <tr>\n",
       "      <th>282</th>\n",
       "      <td>18</td>\n",
       "      <td>Male</td>\n",
       "      <td>Soccer</td>\n",
       "      <td>8</td>\n",
       "      <td>5</td>\n",
       "      <td>24.0</td>\n",
       "      <td>Moderate</td>\n",
       "    </tr>\n",
       "    <tr>\n",
       "      <th>645</th>\n",
       "      <td>18</td>\n",
       "      <td>Male</td>\n",
       "      <td>Soccer</td>\n",
       "      <td>17</td>\n",
       "      <td>2</td>\n",
       "      <td>20.6</td>\n",
       "      <td>High</td>\n",
       "    </tr>\n",
       "    <tr>\n",
       "      <th>8</th>\n",
       "      <td>18</td>\n",
       "      <td>Male</td>\n",
       "      <td>Athletics</td>\n",
       "      <td>8</td>\n",
       "      <td>4</td>\n",
       "      <td>24.6</td>\n",
       "      <td>Moderate</td>\n",
       "    </tr>\n",
       "  </tbody>\n",
       "</table>\n",
       "<p>1100 rows × 7 columns</p>\n",
       "</div>"
      ],
      "text/plain": [
       "      Age  Gender      Sport  Training_Hours_per_Week  Previous_Injuries  \\\n",
       "279    35  Female      Rugby                       15                  0   \n",
       "280    35  Female     Tennis                       23                  5   \n",
       "353    35  Female      Rugby                       18                  3   \n",
       "351    35    Male  Athletics                       24                  4   \n",
       "1017   35  Female      Rugby                       23                  1   \n",
       "...   ...     ...        ...                      ...                ...   \n",
       "491    18  Female     Soccer                        8                  1   \n",
       "484    18  Female      Rugby                       19                  1   \n",
       "282    18    Male     Soccer                        8                  5   \n",
       "645    18    Male     Soccer                       17                  2   \n",
       "8      18    Male  Athletics                        8                  4   \n",
       "\n",
       "       BMI Injury_Risk  \n",
       "279   24.0    Moderate  \n",
       "280   25.0    Moderate  \n",
       "353   23.7        High  \n",
       "351   23.7        High  \n",
       "1017  22.7        High  \n",
       "...    ...         ...  \n",
       "491   23.8    Moderate  \n",
       "484   22.2         Low  \n",
       "282   24.0    Moderate  \n",
       "645   20.6        High  \n",
       "8     24.6    Moderate  \n",
       "\n",
       "[1100 rows x 7 columns]"
      ]
     },
     "execution_count": 63,
     "metadata": {},
     "output_type": "execute_result"
    }
   ],
   "source": [
    "desu"
   ]
  },
  {
   "cell_type": "code",
   "execution_count": 64,
   "id": "391c0392-b856-43e6-b1a4-80cd2c69fcc7",
   "metadata": {},
   "outputs": [
    {
     "data": {
      "text/plain": [
       "np.int64(5)"
      ]
     },
     "execution_count": 64,
     "metadata": {},
     "output_type": "execute_result"
    }
   ],
   "source": [
    "\"\"\"Maximum privous injury taken by a player ina game\"\"\"\n",
    "desu[\"Previous_Injuries\"].max()"
   ]
  },
  {
   "cell_type": "code",
   "execution_count": 65,
   "id": "664967b0-8a5e-42c7-88a1-c25f20bc20bd",
   "metadata": {},
   "outputs": [
    {
     "data": {
      "text/plain": [
       "Age                                35\n",
       "Gender                           Male\n",
       "Sport                      Basketball\n",
       "Training_Hours_per_Week            25\n",
       "Previous_Injuries                   0\n",
       "BMI                              28.1\n",
       "Injury_Risk                  Moderate\n",
       "Name: 983, dtype: object"
      ]
     },
     "execution_count": 65,
     "metadata": {},
     "output_type": "execute_result"
    }
   ],
   "source": [
    "\"\"\"player with maximum Training_Hours_per_Week in a game\"\"\"\n",
    "desu.loc[desu['Training_Hours_per_Week'].idxmax()]"
   ]
  },
  {
   "cell_type": "code",
   "execution_count": 66,
   "id": "70b08ee3-4807-4aba-a5c5-f148907c7e18",
   "metadata": {},
   "outputs": [
    {
     "data": {
      "image/png": "[encoded data removed]",
      "text/plain": [
       "<Figure size 1500x600 with 4 Axes>"
      ]
     },
     "metadata": {},
     "output_type": "display_data"
    },
    {
     "data": {
      "image/png": "[encoded data removed]",
      "text/plain": [
       "<Figure size 1000x600 with 2 Axes>"
      ]
     },
     "metadata": {},
     "output_type": "display_data"
    },
    {
     "name": "stderr",
     "output_type": "stream",
     "text": [
      "C:\\Users\\hp\\AppData\\Local\\Temp\\ipykernel_61284\\81816475.py:21: FutureWarning: \n",
      "\n",
      "Passing `palette` without assigning `hue` is deprecated and will be removed in v0.14.0. Assign the `x` variable to `hue` and set `legend=False` for the same effect.\n",
      "\n",
      "  sns.countplot(x='Injury_Risk', data=desu, palette='Set2')\n"
     ]
    },
    {
     "data": {
      "image/png": "[encoded data removed]",
      "text/plain": [
       "<Figure size 800x500 with 1 Axes>"
      ]
     },
     "metadata": {},
     "output_type": "display_data"
    }
   ],
   "source": [
    "import matplotlib.pyplot as plt\n",
    "import seaborn as sns\n",
    "\n",
    "# Set the aesthetic style of the plots\n",
    "sns.set(style=\"whitegrid\")\n",
    "\n",
    "# Distribution of numerical features\n",
    "numerical_features = ['Age', 'Training_Hours_per_Week', 'Previous_Injuries', 'BMI']\n",
    "desu[numerical_features].hist(bins=15, figsize=(15, 6), layout=(2, 2))\n",
    "plt.suptitle('Distribution of Numerical Features')\n",
    "plt.show()\n",
    "\n",
    "# Correlation matrix\n",
    "plt.figure(figsize=(10, 6))\n",
    "sns.heatmap(desu[numerical_features].corr(), annot=True, cmap='coolwarm', fmt='.2f')\n",
    "plt.title('Correlation Matrix of Numerical Features')\n",
    "plt.show()\n",
    "\n",
    "# Class distribution of the target variable\n",
    "plt.figure(figsize=(8, 5))\n",
    "sns.countplot(x='Injury_Risk', data=desu, palette='Set2')\n",
    "plt.title('Distribution of Injury Risk')\n",
    "plt.show()"
   ]
  },
  {
   "cell_type": "code",
   "execution_count": 67,
   "id": "792d92c3-0905-4efb-b26e-feff8c299586",
   "metadata": {},
   "outputs": [],
   "source": [
    "workload_counts = desu.groupby(\"Age\")['Injury_Risk'].count().sort_values().reset_index()"
   ]
  },
  {
   "cell_type": "code",
   "execution_count": 68,
   "id": "922f0b86-d04d-476c-8d77-c7cc5308ec9d",
   "metadata": {},
   "outputs": [
    {
     "data": {
      "text/html": [
       "<div>\n",
       "<style scoped>\n",
       "    .dataframe tbody tr th:only-of-type {\n",
       "        vertical-align: middle;\n",
       "    }\n",
       "\n",
       "    .dataframe tbody tr th {\n",
       "        vertical-align: top;\n",
       "    }\n",
       "\n",
       "    .dataframe thead th {\n",
       "        text-align: right;\n",
       "    }\n",
       "</style>\n",
       "<table border=\"1\" class=\"dataframe\">\n",
       "  <thead>\n",
       "    <tr style=\"text-align: right;\">\n",
       "      <th></th>\n",
       "      <th>Age</th>\n",
       "      <th>Injury_Risk</th>\n",
       "    </tr>\n",
       "  </thead>\n",
       "  <tbody>\n",
       "    <tr>\n",
       "      <th>0</th>\n",
       "      <td>20</td>\n",
       "      <td>48</td>\n",
       "    </tr>\n",
       "    <tr>\n",
       "      <th>1</th>\n",
       "      <td>32</td>\n",
       "      <td>49</td>\n",
       "    </tr>\n",
       "    <tr>\n",
       "      <th>2</th>\n",
       "      <td>24</td>\n",
       "      <td>52</td>\n",
       "    </tr>\n",
       "    <tr>\n",
       "      <th>3</th>\n",
       "      <td>22</td>\n",
       "      <td>52</td>\n",
       "    </tr>\n",
       "    <tr>\n",
       "      <th>4</th>\n",
       "      <td>27</td>\n",
       "      <td>53</td>\n",
       "    </tr>\n",
       "  </tbody>\n",
       "</table>\n",
       "</div>"
      ],
      "text/plain": [
       "   Age  Injury_Risk\n",
       "0   20           48\n",
       "1   32           49\n",
       "2   24           52\n",
       "3   22           52\n",
       "4   27           53"
      ]
     },
     "execution_count": 68,
     "metadata": {},
     "output_type": "execute_result"
    }
   ],
   "source": [
    "workload_counts.head()"
   ]
  },
  {
   "cell_type": "code",
   "execution_count": 69,
   "id": "00fb15f6-6bdc-4fe4-9e53-04b4cec6579a",
   "metadata": {},
   "outputs": [
    {
     "data": {
      "text/html": [
       "<div>\n",
       "<style scoped>\n",
       "    .dataframe tbody tr th:only-of-type {\n",
       "        vertical-align: middle;\n",
       "    }\n",
       "\n",
       "    .dataframe tbody tr th {\n",
       "        vertical-align: top;\n",
       "    }\n",
       "\n",
       "    .dataframe thead th {\n",
       "        text-align: right;\n",
       "    }\n",
       "</style>\n",
       "<table border=\"1\" class=\"dataframe\">\n",
       "  <thead>\n",
       "    <tr style=\"text-align: right;\">\n",
       "      <th></th>\n",
       "      <th>Age</th>\n",
       "      <th>Gender</th>\n",
       "      <th>Sport</th>\n",
       "      <th>Previous_Injuries</th>\n",
       "      <th>BMI</th>\n",
       "      <th>Injury_Risk</th>\n",
       "    </tr>\n",
       "  </thead>\n",
       "  <tbody>\n",
       "    <tr>\n",
       "      <th>0</th>\n",
       "      <td>18</td>\n",
       "      <td>68</td>\n",
       "      <td>68</td>\n",
       "      <td>68</td>\n",
       "      <td>68</td>\n",
       "      <td>68</td>\n",
       "    </tr>\n",
       "    <tr>\n",
       "      <th>1</th>\n",
       "      <td>19</td>\n",
       "      <td>63</td>\n",
       "      <td>63</td>\n",
       "      <td>63</td>\n",
       "      <td>63</td>\n",
       "      <td>63</td>\n",
       "    </tr>\n",
       "    <tr>\n",
       "      <th>2</th>\n",
       "      <td>20</td>\n",
       "      <td>48</td>\n",
       "      <td>48</td>\n",
       "      <td>48</td>\n",
       "      <td>48</td>\n",
       "      <td>48</td>\n",
       "    </tr>\n",
       "    <tr>\n",
       "      <th>3</th>\n",
       "      <td>21</td>\n",
       "      <td>65</td>\n",
       "      <td>65</td>\n",
       "      <td>65</td>\n",
       "      <td>65</td>\n",
       "      <td>65</td>\n",
       "    </tr>\n",
       "    <tr>\n",
       "      <th>4</th>\n",
       "      <td>22</td>\n",
       "      <td>52</td>\n",
       "      <td>52</td>\n",
       "      <td>52</td>\n",
       "      <td>52</td>\n",
       "      <td>52</td>\n",
       "    </tr>\n",
       "  </tbody>\n",
       "</table>\n",
       "</div>"
      ],
      "text/plain": [
       "   Age  Gender  Sport  Previous_Injuries  BMI  Injury_Risk\n",
       "0   18      68     68                 68   68           68\n",
       "1   19      63     63                 63   63           63\n",
       "2   20      48     48                 48   48           48\n",
       "3   21      65     65                 65   65           65\n",
       "4   22      52     52                 52   52           52"
      ]
     },
     "execution_count": 69,
     "metadata": {},
     "output_type": "execute_result"
    }
   ],
   "source": [
    "injury_counts = desu.groupby(\"Age\").count().reset_index()\n",
    "injury_counts = injury_counts.drop('Training_Hours_per_Week', axis =1)\n",
    "injury_counts.fillna(0, inplace= True)\n",
    "injury_counts.head()"
   ]
  },
  {
   "cell_type": "code",
   "execution_count": 70,
   "id": "1b5f9a69",
   "metadata": {},
   "outputs": [
    {
     "name": "stdout",
     "output_type": "stream",
     "text": [
      "Categorical features: Index(['Gender', 'Sport', 'Injury_Risk'], dtype='object')\n"
     ]
    }
   ],
   "source": [
    "# Check for categorical features\n",
    "categorical_features = desu.select_dtypes(include=['object']).columns\n",
    "print(\"Categorical features:\", categorical_features)"
   ]
  },
  {
   "cell_type": "code",
   "execution_count": 71,
   "id": "c298fd55",
   "metadata": {},
   "outputs": [],
   "source": [
    "# # Perform one-hot encoding\n",
    "# desu = pd.get_dummies(desu, columns=categorical_features, drop_first=True)\n",
    "\n",
    "# # Display the first few rows of the encoded dataset\n",
    "# print(desu.head())"
   ]
  },
  {
   "cell_type": "code",
   "execution_count": 72,
   "id": "6b440a93",
   "metadata": {},
   "outputs": [],
   "source": [
    "# # Check the columns after encoding\n",
    "# print(\"\\nColumns after one-hot encoding:\")\n",
    "# print(desu.columns)\n",
    "\n",
    "# # Display the first few rows of the encoded dataset\n",
    "# print(\"\\nEncoded dataset:\")\n",
    "# print(desu.head())"
   ]
  },
  {
   "cell_type": "code",
   "execution_count": 73,
   "id": "a552cd02",
   "metadata": {},
   "outputs": [],
   "source": [
    "# Save the encoded dataset to a new CSV file\n",
    "desu.to_csv('sports_injury.csv', index=False)"
   ]
  },
  {
   "cell_type": "code",
   "execution_count": 74,
   "id": "7730f98d",
   "metadata": {},
   "outputs": [],
   "source": [
    "desu = pd.read_csv('sports_injury.csv')"
   ]
  },
  {
   "cell_type": "code",
   "execution_count": 75,
   "id": "188a0f8a",
   "metadata": {},
   "outputs": [
    {
     "data": {
      "text/html": [
       "<div>\n",
       "<style scoped>\n",
       "    .dataframe tbody tr th:only-of-type {\n",
       "        vertical-align: middle;\n",
       "    }\n",
       "\n",
       "    .dataframe tbody tr th {\n",
       "        vertical-align: top;\n",
       "    }\n",
       "\n",
       "    .dataframe thead th {\n",
       "        text-align: right;\n",
       "    }\n",
       "</style>\n",
       "<table border=\"1\" class=\"dataframe\">\n",
       "  <thead>\n",
       "    <tr style=\"text-align: right;\">\n",
       "      <th></th>\n",
       "      <th>Age</th>\n",
       "      <th>Gender</th>\n",
       "      <th>Sport</th>\n",
       "      <th>Training_Hours_per_Week</th>\n",
       "      <th>Previous_Injuries</th>\n",
       "      <th>BMI</th>\n",
       "      <th>Injury_Risk</th>\n",
       "    </tr>\n",
       "  </thead>\n",
       "  <tbody>\n",
       "    <tr>\n",
       "      <th>0</th>\n",
       "      <td>35</td>\n",
       "      <td>Female</td>\n",
       "      <td>Rugby</td>\n",
       "      <td>15</td>\n",
       "      <td>0</td>\n",
       "      <td>24.0</td>\n",
       "      <td>Moderate</td>\n",
       "    </tr>\n",
       "    <tr>\n",
       "      <th>1</th>\n",
       "      <td>35</td>\n",
       "      <td>Female</td>\n",
       "      <td>Tennis</td>\n",
       "      <td>23</td>\n",
       "      <td>5</td>\n",
       "      <td>25.0</td>\n",
       "      <td>Moderate</td>\n",
       "    </tr>\n",
       "    <tr>\n",
       "      <th>2</th>\n",
       "      <td>35</td>\n",
       "      <td>Female</td>\n",
       "      <td>Rugby</td>\n",
       "      <td>18</td>\n",
       "      <td>3</td>\n",
       "      <td>23.7</td>\n",
       "      <td>High</td>\n",
       "    </tr>\n",
       "    <tr>\n",
       "      <th>3</th>\n",
       "      <td>35</td>\n",
       "      <td>Male</td>\n",
       "      <td>Athletics</td>\n",
       "      <td>24</td>\n",
       "      <td>4</td>\n",
       "      <td>23.7</td>\n",
       "      <td>High</td>\n",
       "    </tr>\n",
       "    <tr>\n",
       "      <th>4</th>\n",
       "      <td>35</td>\n",
       "      <td>Female</td>\n",
       "      <td>Rugby</td>\n",
       "      <td>23</td>\n",
       "      <td>1</td>\n",
       "      <td>22.7</td>\n",
       "      <td>High</td>\n",
       "    </tr>\n",
       "    <tr>\n",
       "      <th>...</th>\n",
       "      <td>...</td>\n",
       "      <td>...</td>\n",
       "      <td>...</td>\n",
       "      <td>...</td>\n",
       "      <td>...</td>\n",
       "      <td>...</td>\n",
       "      <td>...</td>\n",
       "    </tr>\n",
       "    <tr>\n",
       "      <th>1095</th>\n",
       "      <td>18</td>\n",
       "      <td>Female</td>\n",
       "      <td>Soccer</td>\n",
       "      <td>8</td>\n",
       "      <td>1</td>\n",
       "      <td>23.8</td>\n",
       "      <td>Moderate</td>\n",
       "    </tr>\n",
       "    <tr>\n",
       "      <th>1096</th>\n",
       "      <td>18</td>\n",
       "      <td>Female</td>\n",
       "      <td>Rugby</td>\n",
       "      <td>19</td>\n",
       "      <td>1</td>\n",
       "      <td>22.2</td>\n",
       "      <td>Low</td>\n",
       "    </tr>\n",
       "    <tr>\n",
       "      <th>1097</th>\n",
       "      <td>18</td>\n",
       "      <td>Male</td>\n",
       "      <td>Soccer</td>\n",
       "      <td>8</td>\n",
       "      <td>5</td>\n",
       "      <td>24.0</td>\n",
       "      <td>Moderate</td>\n",
       "    </tr>\n",
       "    <tr>\n",
       "      <th>1098</th>\n",
       "      <td>18</td>\n",
       "      <td>Male</td>\n",
       "      <td>Soccer</td>\n",
       "      <td>17</td>\n",
       "      <td>2</td>\n",
       "      <td>20.6</td>\n",
       "      <td>High</td>\n",
       "    </tr>\n",
       "    <tr>\n",
       "      <th>1099</th>\n",
       "      <td>18</td>\n",
       "      <td>Male</td>\n",
       "      <td>Athletics</td>\n",
       "      <td>8</td>\n",
       "      <td>4</td>\n",
       "      <td>24.6</td>\n",
       "      <td>Moderate</td>\n",
       "    </tr>\n",
       "  </tbody>\n",
       "</table>\n",
       "<p>1100 rows × 7 columns</p>\n",
       "</div>"
      ],
      "text/plain": [
       "      Age  Gender      Sport  Training_Hours_per_Week  Previous_Injuries  \\\n",
       "0      35  Female      Rugby                       15                  0   \n",
       "1      35  Female     Tennis                       23                  5   \n",
       "2      35  Female      Rugby                       18                  3   \n",
       "3      35    Male  Athletics                       24                  4   \n",
       "4      35  Female      Rugby                       23                  1   \n",
       "...   ...     ...        ...                      ...                ...   \n",
       "1095   18  Female     Soccer                        8                  1   \n",
       "1096   18  Female      Rugby                       19                  1   \n",
       "1097   18    Male     Soccer                        8                  5   \n",
       "1098   18    Male     Soccer                       17                  2   \n",
       "1099   18    Male  Athletics                        8                  4   \n",
       "\n",
       "       BMI Injury_Risk  \n",
       "0     24.0    Moderate  \n",
       "1     25.0    Moderate  \n",
       "2     23.7        High  \n",
       "3     23.7        High  \n",
       "4     22.7        High  \n",
       "...    ...         ...  \n",
       "1095  23.8    Moderate  \n",
       "1096  22.2         Low  \n",
       "1097  24.0    Moderate  \n",
       "1098  20.6        High  \n",
       "1099  24.6    Moderate  \n",
       "\n",
       "[1100 rows x 7 columns]"
      ]
     },
     "execution_count": 75,
     "metadata": {},
     "output_type": "execute_result"
    }
   ],
   "source": [
    "desu"
   ]
  },
  {
   "cell_type": "code",
   "execution_count": 76,
   "id": "d405f23f",
   "metadata": {},
   "outputs": [
    {
     "name": "stdout",
     "output_type": "stream",
     "text": [
      "Index(['Age', 'Gender', 'Sport', 'Training_Hours_per_Week',\n",
      "       'Previous_Injuries', 'BMI', 'Injury_Risk'],\n",
      "      dtype='object')\n"
     ]
    }
   ],
   "source": [
    "# Check the column names\n",
    "print(desu.columns)\n"
   ]
  },
  {
   "cell_type": "markdown",
   "id": "003009c8",
   "metadata": {},
   "source": []
  },
  {
   "cell_type": "markdown",
   "id": "29cf8009-303c-4f70-9006-b20fe6f176f2",
   "metadata": {},
   "source": [
    "# Load the Dataset and Summarize Data Distributions"
   ]
  },
  {
   "cell_type": "code",
   "execution_count": 77,
   "id": "76854f75-34f9-46c0-b19c-8ad83d178bf0",
   "metadata": {},
   "outputs": [
    {
     "name": "stdout",
     "output_type": "stream",
     "text": [
      "   Age  Gender       Sport  Training_Hours_per_Week  Previous_Injuries   BMI  \\\n",
      "0   30    Male  Basketball                       17                  0  20.3   \n",
      "1   21  Female   Athletics                       10                  1  28.1   \n",
      "2   33    Male       Rugby                        6                  3  20.0   \n",
      "3   31  Female   Athletics                       12                  5  28.6   \n",
      "4   34    Male  Basketball                       13                  3  29.4   \n",
      "\n",
      "  Injury_Risk  \n",
      "0        High  \n",
      "1         Low  \n",
      "2         Low  \n",
      "3         Low  \n",
      "4         Low  \n",
      "\n",
      "Summary of the dataset:\n",
      "<class 'pandas.core.frame.DataFrame'>\n",
      "RangeIndex: 1100 entries, 0 to 1099\n",
      "Data columns (total 7 columns):\n",
      " #   Column                   Non-Null Count  Dtype  \n",
      "---  ------                   --------------  -----  \n",
      " 0   Age                      1100 non-null   int64  \n",
      " 1   Gender                   1100 non-null   object \n",
      " 2   Sport                    1100 non-null   object \n",
      " 3   Training_Hours_per_Week  1100 non-null   int64  \n",
      " 4   Previous_Injuries        1100 non-null   int64  \n",
      " 5   BMI                      1100 non-null   float64\n",
      " 6   Injury_Risk              1100 non-null   object \n",
      "dtypes: float64(1), int64(3), object(3)\n",
      "memory usage: 60.3+ KB\n",
      "None\n",
      "\n",
      "Summary statistics for numerical features:\n",
      "               Age  Training_Hours_per_Week  Previous_Injuries          BMI\n",
      "count  1100.000000              1100.000000        1100.000000  1100.000000\n",
      "mean     26.513636                15.055455           2.490000    24.059091\n",
      "std       5.179296                 6.069930           1.739361     3.463119\n",
      "min      18.000000                 5.000000           0.000000    18.000000\n",
      "25%      22.000000                10.000000           1.000000    21.000000\n",
      "50%      27.000000                15.000000           2.500000    24.100000\n",
      "75%      31.000000                20.000000           4.000000    27.000000\n",
      "max      35.000000                25.000000           5.000000    30.000000\n",
      "\n",
      "Class distribution of Injury_Risk_Low:\n",
      "Injury_Risk\n",
      "Moderate    381\n",
      "High        372\n",
      "Low         347\n",
      "Name: count, dtype: int64\n"
     ]
    }
   ],
   "source": [
    "import pandas as pd\n",
    "import matplotlib.pyplot as plt\n",
    "import seaborn as sns\n",
    "\n",
    "# Load the dataset\n",
    "desu = pd.read_csv('sports_injury1.csv')\n",
    "\n",
    "# Display the first few rows\n",
    "print(desu.head())\n",
    "\n",
    "# Summary of the dataset\n",
    "print(\"\\nSummary of the dataset:\")\n",
    "print(desu.info())\n",
    "\n",
    "# Summary statistics for numerical features\n",
    "print(\"\\nSummary statistics for numerical features:\")\n",
    "print(desu.describe())\n",
    "\n",
    "# Class distribution of the target variables 'Injury_Risk_Low'\n",
    "print(\"\\nClass distribution of Injury_Risk_Low:\")\n",
    "print(desu['Injury_Risk'].value_counts())\n",
    "\n",
    "\n"
   ]
  },
  {
   "cell_type": "code",
   "execution_count": 78,
   "id": "66aabef0-4800-4447-af5c-baa6abc0ebb1",
   "metadata": {},
   "outputs": [
    {
     "name": "stdout",
     "output_type": "stream",
     "text": [
      "Missing values in each column:\n",
      "Age                        0\n",
      "Gender                     0\n",
      "Sport                      0\n",
      "Training_Hours_per_Week    0\n",
      "Previous_Injuries          0\n",
      "BMI                        0\n",
      "Injury_Risk                0\n",
      "dtype: int64\n"
     ]
    }
   ],
   "source": [
    "# Check for missing values\n",
    "print(\"Missing values in each column:\")\n",
    "print(desu.isnull().sum())"
   ]
  },
  {
   "cell_type": "code",
   "execution_count": 79,
   "id": "452e0bc6-77c3-4c2a-b694-f38c0e37100b",
   "metadata": {},
   "outputs": [
    {
     "data": {
      "image/png": "[encoded data removed]",
      "text/plain": [
       "<Figure size 1500x500 with 2 Axes>"
      ]
     },
     "metadata": {},
     "output_type": "display_data"
    }
   ],
   "source": [
    "# Count plots for categorical features\n",
    "plt.figure(figsize=(15, 5))\n",
    "plt.subplot(1, 2, 1)\n",
    "sns.countplot(data=desu, x='Gender', hue='Injury_Risk', palette='Set2')\n",
    "plt.title('Injury Risk by Gender')\n",
    "\n",
    "plt.subplot(1, 2, 2)\n",
    "sns.countplot(data=desu, x='Sport', hue='Injury_Risk', palette='Set2')\n",
    "plt.title('Injury Risk by Sport')\n",
    "plt.xticks(rotation=45)\n",
    "plt.tight_layout()\n",
    "plt.show()"
   ]
  },
  {
   "cell_type": "code",
   "execution_count": 80,
   "id": "48428988-d578-4cbd-a05c-7c5a2bc73bc8",
   "metadata": {},
   "outputs": [],
   "source": [
    "# Example using Z-score\n",
    "from scipy import stats\n",
    "\n",
    "# Calculate Z-scores\n",
    "z_scores = stats.zscore(desu[numerical_features])\n",
    "desu = desu[(z_scores < 3).all(axis=1)]  # Keep only rows where Z-scores are less than 3\n"
   ]
  },
  {
   "cell_type": "code",
   "execution_count": 81,
   "id": "930eb40f-76e5-4e4b-9641-cf43da091002",
   "metadata": {},
   "outputs": [],
   "source": [
    "from sklearn.preprocessing import StandardScaler\n",
    "\n",
    "# Select numerical features for scaling\n",
    "numerical_features = ['Age', 'Training_Hours_per_Week', 'Previous_Injuries', 'BMI']\n",
    "scaler = StandardScaler()\n",
    "\n",
    "# Scale the features\n",
    "desu[numerical_features] = scaler.fit_transform(desu[numerical_features])\n"
   ]
  },
  {
   "cell_type": "code",
   "execution_count": 82,
   "id": "0fbba506-b991-4848-b937-2e50645eb52a",
   "metadata": {},
   "outputs": [
    {
     "name": "stdout",
     "output_type": "stream",
     "text": [
      "Age                          int64\n",
      "Gender                      object\n",
      "Sport                       object\n",
      "Training_Hours_per_Week      int64\n",
      "Previous_Injuries            int64\n",
      "BMI                        float64\n",
      "Injury_Risk                 object\n",
      "dtype: object\n"
     ]
    }
   ],
   "source": [
    "import pandas as pd\n",
    "from sklearn.model_selection import train_test_split\n",
    "from sklearn.preprocessing import LabelEncoder\n",
    "\n",
    "# Load the CSV file (assuming preprocessing steps are done)\n",
    "data = pd.read_csv('sports_injury1.csv')\n",
    "\n",
    "# Check the data types of the columns to identify non-string columns\n",
    "print(data.dtypes)\n",
    "\n",
    "# Convert columns to string if necessary before using .str accessor\n",
    "data['Gender'] = data['Gender'].astype(str).str.lower().str.strip()\n",
    "data['Sport'] = data['Sport'].astype(str).str.lower().str.strip()\n",
    "data['Injury_Risk'] = data['Injury_Risk'].astype(str).str.lower().str.strip()\n",
    "\n",
    "# Encode categorical features\n",
    "data = pd.get_dummies(data, columns=['Gender', 'Sport'], drop_first=True)\n",
    "\n",
    "# Encode target variable\n",
    "label_encoder = LabelEncoder()\n",
    "data['Injury_Risk'] = label_encoder.fit_transform(data['Injury_Risk'])\n",
    "\n",
    "# Split the dataset into features and target variable\n",
    "X = data.drop(columns=['Injury_Risk'])  # Features\n",
    "y = data['Injury_Risk']  # Target variable (now numeric)\n",
    "\n",
    "# Split the data into training and testing sets\n",
    "X_train, X_test, y_train, y_test = train_test_split(X, y, test_size=0.2, random_state=42, stratify=y)\n"
   ]
  },
  {
   "cell_type": "code",
   "execution_count": 83,
   "id": "7bce357a-9147-457e-bfa9-23ce746fbd70",
   "metadata": {},
   "outputs": [
    {
     "name": "stdout",
     "output_type": "stream",
     "text": [
      "Logistic Regression Accuracy: 0.37272727272727274\n",
      "              precision    recall  f1-score   support\n",
      "\n",
      "           0       0.40      0.46      0.42        74\n",
      "           1       0.31      0.14      0.20        70\n",
      "           2       0.37      0.50      0.43        76\n",
      "\n",
      "    accuracy                           0.37       220\n",
      "   macro avg       0.36      0.37      0.35       220\n",
      "weighted avg       0.36      0.37      0.35       220\n",
      "\n"
     ]
    }
   ],
   "source": [
    "from sklearn.linear_model import LogisticRegression\n",
    "from sklearn.metrics import classification_report, accuracy_score\n",
    "\n",
    "# Initialize and train Logistic Regression model\n",
    "logistic_model = LogisticRegression(max_iter=1000)\n",
    "logistic_model.fit(X_train, y_train)\n",
    "\n",
    "# Make predictions\n",
    "y_pred_logistic = logistic_model.predict(X_test)\n",
    "\n",
    "# Evaluate the model\n",
    "print(\"Logistic Regression Accuracy:\", accuracy_score(y_test, y_pred_logistic))\n",
    "print(classification_report(y_test, y_pred_logistic))\n"
   ]
  },
  {
   "cell_type": "markdown",
   "id": "900183ed-dac1-4c34-a4bd-beb372356acb",
   "metadata": {},
   "source": [
    "Plotting the number of injures occured by each athlete"
   ]
  },
  {
   "cell_type": "code",
   "execution_count": 84,
   "id": "e42b07e9-96bd-4deb-ae93-a50fdc8c5940",
   "metadata": {},
   "outputs": [
    {
     "name": "stdout",
     "output_type": "stream",
     "text": [
      "Random Forest Accuracy: 0.3181818181818182\n",
      "              precision    recall  f1-score   support\n",
      "\n",
      "           0       0.37      0.42      0.39        74\n",
      "           1       0.26      0.21      0.24        70\n",
      "           2       0.30      0.32      0.31        76\n",
      "\n",
      "    accuracy                           0.32       220\n",
      "   macro avg       0.31      0.32      0.31       220\n",
      "weighted avg       0.31      0.32      0.31       220\n",
      "\n"
     ]
    }
   ],
   "source": [
    "from sklearn.ensemble import RandomForestClassifier\n",
    "\n",
    "# Initialize and train Random Forest model\n",
    "random_forest_model = RandomForestClassifier(random_state=42)\n",
    "random_forest_model.fit(X_train, y_train)\n",
    "\n",
    "# Make predictions\n",
    "y_pred_rf = random_forest_model.predict(X_test)\n",
    "\n",
    "# Evaluate the model\n",
    "print(\"Random Forest Accuracy:\", accuracy_score(y_test, y_pred_rf))\n",
    "print(classification_report(y_test, y_pred_rf))\n"
   ]
  },
  {
   "cell_type": "code",
   "execution_count": 85,
   "id": "18502a66-fc22-45fa-9218-ca3d58430a06",
   "metadata": {},
   "outputs": [
    {
     "name": "stdout",
     "output_type": "stream",
     "text": [
      "Fitting 5 folds for each of 108 candidates, totalling 540 fits\n",
      "Best Hyperparameters: {'max_depth': None, 'min_samples_leaf': 1, 'min_samples_split': 10, 'n_estimators': 100}\n"
     ]
    }
   ],
   "source": [
    "from sklearn.model_selection import GridSearchCV\n",
    "\n",
    "# Define hyperparameter grid\n",
    "param_grid = {\n",
    "    'n_estimators': [50, 100, 200],\n",
    "    'max_depth': [None, 10, 20, 30],\n",
    "    'min_samples_split': [2, 5, 10],\n",
    "    'min_samples_leaf': [1, 2, 4]\n",
    "}\n",
    "\n",
    "# Initialize GridSearchCV\n",
    "grid_search = GridSearchCV(estimator=random_forest_model, param_grid=param_grid, \n",
    "                           cv=5, scoring='accuracy', verbose=2, n_jobs=-1)\n",
    "\n",
    "# Fit GridSearchCV\n",
    "grid_search.fit(X_train, y_train)\n",
    "\n",
    "# Best parameters and estimator\n",
    "best_params = grid_search.best_params_\n",
    "best_estimator = grid_search.best_estimator_\n",
    "\n",
    "print(\"Best Hyperparameters:\", best_params)\n"
   ]
  },
  {
   "cell_type": "code",
   "execution_count": null,
   "id": "263996b4-37fb-477e-9540-8f6870beb2d6",
   "metadata": {},
   "outputs": [],
   "source": []
  },
  {
   "cell_type": "code",
   "execution_count": 86,
   "id": "20e37c8d-f443-4520-a6af-3528825aacec",
   "metadata": {},
   "outputs": [
    {
     "name": "stdout",
     "output_type": "stream",
     "text": [
      "Index(['Age', 'Gender', 'Sport', 'Training_Hours_per_Week',\n",
      "       'Previous_Injuries', 'BMI', 'Injury_Risk'],\n",
      "      dtype='object')\n",
      "Random Forest Evaluation:\n",
      "[[25 20 29]\n",
      " [26 26 18]\n",
      " [26 27 23]]\n",
      "              precision    recall  f1-score   support\n",
      "\n",
      "           0       0.32      0.34      0.33        74\n",
      "           1       0.36      0.37      0.36        70\n",
      "           2       0.33      0.30      0.32        76\n",
      "\n",
      "    accuracy                           0.34       220\n",
      "   macro avg       0.34      0.34      0.34       220\n",
      "weighted avg       0.34      0.34      0.34       220\n",
      "\n",
      "Random Forest Accuracy: 0.34\n",
      "KNN Evaluation:\n",
      "[[39 19 16]\n",
      " [32 23 15]\n",
      " [33 25 18]]\n",
      "              precision    recall  f1-score   support\n",
      "\n",
      "           0       0.38      0.53      0.44        74\n",
      "           1       0.34      0.33      0.34        70\n",
      "           2       0.37      0.24      0.29        76\n",
      "\n",
      "    accuracy                           0.36       220\n",
      "   macro avg       0.36      0.36      0.35       220\n",
      "weighted avg       0.36      0.36      0.35       220\n",
      "\n",
      "KNN Accuracy: 0.36\n"
     ]
    },
    {
     "data": {
      "text/plain": [
       "['label_encoder.joblib']"
      ]
     },
     "execution_count": 86,
     "metadata": {},
     "output_type": "execute_result"
    }
   ],
   "source": [
    "import pandas as pd\n",
    "import joblib\n",
    "from sklearn.model_selection import train_test_split\n",
    "from sklearn.preprocessing import LabelEncoder\n",
    "from sklearn.neighbors import KNeighborsClassifier\n",
    "from sklearn.ensemble import RandomForestClassifier\n",
    "from sklearn.metrics import confusion_matrix, classification_report, accuracy_score\n",
    "\n",
    "# Load the CSV file\n",
    "data = pd.read_csv('sports_injury.csv')\n",
    "\n",
    "# Check the column names to find the correct ones\n",
    "print(data.columns)\n",
    "\n",
    "# Standardize categorical variables (replace with correct column names)\n",
    "data['Gender'] = data['Gender'].astype(str).str.lower().str.strip()  # Update with actual column name if needed\n",
    "data['Sport'] = data['Sport'].astype(str).str.lower().str.strip()  # Update with actual column name if needed\n",
    "data['Injury_Risk'] = data['Injury_Risk'].astype(str).str.lower().str.strip()\n",
    "\n",
    "# Encode categorical features\n",
    "data = pd.get_dummies(data, columns=['Gender', 'Sport'], drop_first=True)  # Correct column name\n",
    "\n",
    "# Encode target variable\n",
    "label_encoder = LabelEncoder()\n",
    "data['Injury_Risk'] = label_encoder.fit_transform(data['Injury_Risk'])\n",
    "\n",
    "# Split the dataset into features and target variable\n",
    "X = data.drop(columns=['Injury_Risk'])  # Features\n",
    "y = data['Injury_Risk']  # Target variable (now numeric)\n",
    "\n",
    "# Split the data into training and testing sets\n",
    "X_train, X_test, y_train, y_test = train_test_split(X, y, test_size=0.2, random_state=42, stratify=y)\n",
    "\n",
    "# Initialize and train Random Forest model\n",
    "rf_model = RandomForestClassifier(random_state=42)\n",
    "rf_model.fit(X_train, y_train)\n",
    "\n",
    "# Make predictions with Random Forest\n",
    "y_pred_rf = rf_model.predict(X_test)\n",
    "\n",
    "# Evaluate the Random Forest model\n",
    "print(\"Random Forest Evaluation:\")\n",
    "print(confusion_matrix(y_test, y_pred_rf))\n",
    "print(classification_report(y_test, y_pred_rf))\n",
    "print(f\"Random Forest Accuracy: {accuracy_score(y_test, y_pred_rf):.2f}\")\n",
    "\n",
    "# Initialize KNN model\n",
    "knn_model = KNeighborsClassifier(n_neighbors=5)\n",
    "\n",
    "# Train the KNN model\n",
    "knn_model.fit(X_train, y_train)\n",
    "\n",
    "# Make predictions with KNN\n",
    "y_pred_knn = knn_model.predict(X_test)\n",
    "\n",
    "# Evaluate the KNN model\n",
    "print(\"KNN Evaluation:\")\n",
    "print(confusion_matrix(y_test, y_pred_knn))\n",
    "print(classification_report(y_test, y_pred_knn))\n",
    "print(f\"KNN Accuracy: {accuracy_score(y_test, y_pred_knn):.2f}\")\n",
    "\n",
    "# Save the models using joblib\n",
    "joblib.dump(rf_model, 'model_rf.joblib')\n",
    "joblib.dump(knn_model, 'model_knn.joblib')\n",
    "joblib.dump(label_encoder, 'label_encoder.joblib')\n",
    "\n"
   ]
  },
  {
   "cell_type": "code",
   "execution_count": 87,
   "id": "ed6c5ab2",
   "metadata": {},
   "outputs": [],
   "source": [
    "import joblib\n",
    "\n",
    "# Load the trained models\n",
    "label_encoder = joblib.load('label_encoder.joblib')\n",
    "label_encoder = joblib.load('label_encoder.joblib')\n",
    "rf_model = joblib.load('model_rf.joblib')\n",
    "knn_model = joblib.load('model_knn.joblib')\n",
    "rf_risk_label = label_encoder.inverse_transform([rf_prediction])[0]\n",
    "knn_risk_label = label_encoder.inverse_transform([knn_prediction])[0]\n"
   ]
  },
  {
   "cell_type": "code",
   "execution_count": 88,
   "id": "8aa4a0f5",
   "metadata": {},
   "outputs": [
    {
     "name": "stdout",
     "output_type": "stream",
     "text": [
      "Random Forest Injury Risk Prediction: High\n",
      "KNN Injury Risk Prediction: High\n"
     ]
    }
   ],
   "source": [
    "import pandas as pd\n",
    "import joblib\n",
    "\n",
    "# Load the trained models and LabelEncoder\n",
    "rf_model = joblib.load('model_rf.joblib')\n",
    "knn_model = joblib.load('model_knn.joblib')\n",
    "label_encoder = joblib.load('label_encoder.joblib')\n",
    "\n",
    "# Define a new input sample for prediction\n",
    "new_data = {\n",
    "    'Age': 30,\n",
    "    'Training_Hours_per_Week': 17,\n",
    "    'Previous_Injuries': 0,\n",
    "    'BMI': 20.3,\n",
    "    'Gender': \"Male\",\n",
    "    'Sport': \"Basketball\"\n",
    "}\n",
    "\n",
    "# Convert the new input data into a DataFrame\n",
    "input_df = pd.DataFrame([new_data])\n",
    "\n",
    "# Clean and standardize categorical variables\n",
    "# Standardize categorical features\n",
    "input_df['Gender'] = input_df['Gender'].apply(lambda x: str(x).lower().strip())\n",
    "input_df['Sport'] = input_df['Sport'].apply(lambda x: str(x).lower().strip())\n",
    "\n",
    "\n",
    "# One-hot encode the categorical features\n",
    "input_df_encoded = pd.get_dummies(input_df, columns=['Gender', 'Sport'], drop_first=True)\n",
    "\n",
    "# Ensure compatibility with training features\n",
    "expected_features = rf_model.feature_names_in_\n",
    "input_df_encoded = input_df_encoded.reindex(columns=expected_features, fill_value=0)\n",
    "\n",
    "# Make predictions\n",
    "try:\n",
    "    rf_prediction = rf_model.predict(input_df_encoded)[0]\n",
    "    knn_prediction = knn_model.predict(input_df_encoded)[0]\n",
    "\n",
    "    # Map predictions back to labels\n",
    "    rf_risk_label = label_encoder.inverse_transform([rf_prediction])[0]\n",
    "    knn_risk_label = label_encoder.inverse_transform([knn_prediction])[0]\n",
    "\n",
    "    # Print predictions\n",
    "    print(f\"Random Forest Injury Risk Prediction: {rf_risk_label.capitalize()}\")\n",
    "    print(f\"KNN Injury Risk Prediction: {knn_risk_label.capitalize()}\")\n",
    "\n",
    "except Exception as e:\n",
    "    print(\"Error during prediction:\", e)\n"
   ]
  },
  {
   "cell_type": "code",
   "execution_count": 89,
   "id": "e404a12d-98f7-4dbd-be36-d60f91578b5b",
   "metadata": {},
   "outputs": [
    {
     "name": "stdout",
     "output_type": "stream",
     "text": [
      "Defaulting to user installation because normal site-packages is not writeable\n",
      "Requirement already satisfied: fastapi in c:\\users\\hp\\appdata\\roaming\\python\\python313\\site-packages (0.115.8)\n",
      "Requirement already satisfied: uvicorn in c:\\users\\hp\\appdata\\roaming\\python\\python313\\site-packages (0.34.0)\n",
      "Requirement already satisfied: pandas in c:\\users\\hp\\appdata\\roaming\\python\\python313\\site-packages (2.2.3)\n",
      "Requirement already satisfied: joblib in c:\\users\\hp\\appdata\\roaming\\python\\python313\\site-packages (1.4.2)\n",
      "Requirement already satisfied: starlette<0.46.0,>=0.40.0 in c:\\users\\hp\\appdata\\roaming\\python\\python313\\site-packages (from fastapi) (0.45.3)\n",
      "Requirement already satisfied: pydantic!=1.8,!=1.8.1,!=2.0.0,!=2.0.1,!=2.1.0,<3.0.0,>=1.7.4 in c:\\users\\hp\\appdata\\roaming\\python\\python313\\site-packages (from fastapi) (2.10.6)\n",
      "Requirement already satisfied: typing-extensions>=4.8.0 in c:\\users\\hp\\appdata\\roaming\\python\\python313\\site-packages (from fastapi) (4.12.2)\n",
      "Requirement already satisfied: click>=7.0 in c:\\users\\hp\\appdata\\roaming\\python\\python313\\site-packages (from uvicorn) (8.1.8)\n",
      "Requirement already satisfied: h11>=0.8 in c:\\users\\hp\\appdata\\roaming\\python\\python313\\site-packages (from uvicorn) (0.14.0)\n",
      "Requirement already satisfied: numpy>=1.26.0 in c:\\users\\hp\\appdata\\roaming\\python\\python313\\site-packages (from pandas) (2.2.2)\n",
      "Requirement already satisfied: python-dateutil>=2.8.2 in c:\\users\\hp\\appdata\\roaming\\python\\python313\\site-packages (from pandas) (2.9.0.post0)\n",
      "Requirement already satisfied: pytz>=2020.1 in c:\\users\\hp\\appdata\\roaming\\python\\python313\\site-packages (from pandas) (2024.2)\n",
      "Requirement already satisfied: tzdata>=2022.7 in c:\\users\\hp\\appdata\\roaming\\python\\python313\\site-packages (from pandas) (2025.1)\n",
      "Requirement already satisfied: colorama in c:\\users\\hp\\appdata\\roaming\\python\\python313\\site-packages (from click>=7.0->uvicorn) (0.4.6)\n",
      "Requirement already satisfied: annotated-types>=0.6.0 in c:\\users\\hp\\appdata\\roaming\\python\\python313\\site-packages (from pydantic!=1.8,!=1.8.1,!=2.0.0,!=2.0.1,!=2.1.0,<3.0.0,>=1.7.4->fastapi) (0.7.0)\n",
      "Requirement already satisfied: pydantic-core==2.27.2 in c:\\users\\hp\\appdata\\roaming\\python\\python313\\site-packages (from pydantic!=1.8,!=1.8.1,!=2.0.0,!=2.0.1,!=2.1.0,<3.0.0,>=1.7.4->fastapi) (2.27.2)\n",
      "Requirement already satisfied: six>=1.5 in c:\\users\\hp\\appdata\\roaming\\python\\python313\\site-packages (from python-dateutil>=2.8.2->pandas) (1.17.0)\n",
      "Requirement already satisfied: anyio<5,>=3.6.2 in c:\\users\\hp\\appdata\\roaming\\python\\python313\\site-packages (from starlette<0.46.0,>=0.40.0->fastapi) (4.8.0)\n",
      "Requirement already satisfied: idna>=2.8 in c:\\users\\hp\\appdata\\roaming\\python\\python313\\site-packages (from anyio<5,>=3.6.2->starlette<0.46.0,>=0.40.0->fastapi) (3.10)\n",
      "Requirement already satisfied: sniffio>=1.1 in c:\\users\\hp\\appdata\\roaming\\python\\python313\\site-packages (from anyio<5,>=3.6.2->starlette<0.46.0,>=0.40.0->fastapi) (1.3.1)\n",
      "Note: you may need to restart the kernel to use updated packages.\n"
     ]
    }
   ],
   "source": [
    "pip install fastapi uvicorn pandas joblib\n"
   ]
  },
  {
   "cell_type": "code",
   "execution_count": null,
   "id": "39831ef1-e297-4360-af8e-793cc3975645",
   "metadata": {},
   "outputs": [],
   "source": []
  }
 ],
 "metadata": {
  "kernelspec": {
   "display_name": "Python 3",
   "language": "python",
   "name": "python3"
  },
  "language_info": {
   "codemirror_mode": {
    "name": "ipython",
    "version": 3
   },
   "file_extension": ".py",
   "mimetype": "text/x-python",
   "name": "python",
   "nbconvert_exporter": "python",
   "pygments_lexer": "ipython3",
   "version": "3.13.1"
  }
 },
 "nbformat": 4,
 "nbformat_minor": 5
}
